{
 "cells": [
  {
   "cell_type": "markdown",
   "metadata": {},
   "source": [
    "# Sentence polarity classification\n",
    "\n",
    "This notebook demonstrates using logistic regression for classication of sentence polarity -- positive vs negative.\n",
    "\n",
    "It is based on this problem sets(in JP).\n",
    "\n",
    "We will compare a implemented from scratch model and that provided by sklearn package.\n",
    "Dataset used here is `sentence polarity dataset v1.0` provided by Bo Pang and Lillian Lee. [To Download Page](http://www.cs.cornell.edu/people/pabo/movie-review-data/)"
   ]
  },
  {
   "cell_type": "code",
   "execution_count": 1,
   "metadata": {},
   "outputs": [],
   "source": [
    "# -*- coding:latin-1 -*-\n",
    "\n",
    "import pandas as pd\n",
    "import numpy as np\n",
    "import matplotlib as mpl\n",
    "import matplotlib.pyplot as plt\n",
    "%matplotlib inline\n",
    "\n",
    "from IPython.core.interactiveshell import InteractiveShell\n",
    "InteractiveShell.ast_node_interactivity = \"all\""
   ]
  },
  {
   "cell_type": "markdown",
   "metadata": {},
   "source": [
    "## Prepare the data"
   ]
  },
  {
   "cell_type": "code",
   "execution_count": 2,
   "metadata": {},
   "outputs": [
    {
     "name": "stdout",
     "output_type": "stream",
     "text": [
      "mkdir: data: File exists\n",
      "  % Total    % Received % Xferd  Average Speed   Time    Time     Time  Current\n",
      "                                 Dload  Upload   Total   Spent    Left  Speed\n",
      "100  476k  100  476k    0     0   181k      0  0:00:02  0:00:02 --:--:--  181k\n",
      "x rt-polaritydata.README.1.0.txt\n",
      "x rt-polaritydata/rt-polarity.neg\n",
      "x rt-polaritydata/rt-polarity.pos\n"
     ]
    }
   ],
   "source": [
    "# Download \n",
    "!mkdir data\n",
    "!rm -rf rt-polaritydata\n",
    "!curl www.cs.cornell.edu/people/pabo/movie%2Dreview%2Ddata/rt-polaritydata.tar.gz -o ./data/rt-polaritydata.tar.gz\n",
    "!tar -zxvf ./data/rt-polaritydata.tar.gz"
   ]
  },
  {
   "cell_type": "markdown",
   "metadata": {},
   "source": [
    "We'll first try to load sentence data and assign 1 to the beginning of positive sentence and 0 to the negative ones."
   ]
  },
  {
   "cell_type": "code",
   "execution_count": 3,
   "metadata": {},
   "outputs": [],
   "source": [
    "import random\n",
    "\n",
    "with open(\"./rt-polaritydata/rt-polarity.pos\", \"r\") as pos_open:\n",
    "  pos = pos_open.read().split(\"\\n\")\n",
    "with open(\"./rt-polaritydata/rt-polarity.neg\", \"r\") as neg_open:\n",
    "  neg = neg_open.read().split(\"\\n\")\n",
    "  \n",
    "# tab used instead of space to seperate label and text\n",
    "pos = [\"\\t\".join([\"1\", x]) for x in pos]\n",
    "neg = [\"\\t\".join([\"0\", x]) for x in neg]\n",
    "sentiment = pos\n",
    "sentiment.extend(neg)\n",
    "\n",
    "random.shuffle(sentiment)"
   ]
  },
  {
   "cell_type": "code",
   "execution_count": 4,
   "metadata": {},
   "outputs": [
    {
     "data": {
      "text/plain": [
       "[\"0\\tnair just doesn't have the necessary self-control to guide a loose , poorly structured film through the pitfalls of incoherence and redundancy . \",\n",
       " '1\\ta finely tuned mood piece , a model of menacing atmosphere . ',\n",
       " '1\\t \" mr . deeds \" is suitable summer entertainment that offers escapism without requiring a great deal of thought . ',\n",
       " '1\\tthe film just might turn on many people to opera , in general , an art form at once visceral and spiritual , wonderfully vulgar and sublimely lofty -- and as emotionally grand as life . ',\n",
       " \"0\\tsuffocated by its fussy script and uptight characters , this musty adaptation is all the more annoying since it's been packaged and sold back to us by hollywood . \",\n",
       " \"0\\tdoesn't amount to much of anything . \",\n",
       " '0\\tone thing is for sure : this movie does not tell you a whole lot about lily chou-chou . ',\n",
       " '1\\ta grittily beautiful film that looks , sounds , and feels more like an extended , open-ended poem than a traditionally structured story . ',\n",
       " \"1\\tshe's all-powerful , a voice for a pop-cyber culture that feeds on her bjorkness . \",\n",
       " \"0\\tit's not nearly as fresh or enjoyable as its predecessor , but there are enough high points to keep this from being a complete waste of time . \"]"
      ]
     },
     "execution_count": 4,
     "metadata": {},
     "output_type": "execute_result"
    }
   ],
   "source": [
    "sentiment[:10]"
   ]
  },
  {
   "cell_type": "markdown",
   "metadata": {},
   "source": [
    "## Normalizer\n",
    "\n",
    "In order to further smoothly process the sentences, we need to get rid of the stop words. So let's prepare a model for stop words."
   ]
  },
  {
   "cell_type": "code",
   "execution_count": 5,
   "metadata": {},
   "outputs": [],
   "source": [
    "# Two list for stop words:\n",
    "# 1. http://xpo6.com/list-of-english-stop-words/\n",
    "# 2*. http://www.textfixer.com/tutorials/common-english-words.txt\n",
    "\n",
    "import urllib2\n",
    "\n",
    "class StopWords:\n",
    "  word_set = urllib2.urlopen(\"http://www.textfixer.com/tutorials/common-english-words.txt\").read().split(\",\")\n",
    "\n",
    "  @classmethod\n",
    "  def is_stop(cls, word):\n",
    "    return word in cls.word_set"
   ]
  },
  {
   "cell_type": "code",
   "execution_count": 6,
   "metadata": {},
   "outputs": [
    {
     "name": "stdout",
     "output_type": "stream",
     "text": [
      "('hello', False)\n",
      "('world', False)\n",
      "('and', True)\n",
      "('you', True)\n",
      "('also', True)\n"
     ]
    }
   ],
   "source": [
    "test_list = \"hello world and you also\".split(\" \")\n",
    "for word in test_list:\n",
    "  print(word, StopWords.is_stop(word))"
   ]
  },
  {
   "cell_type": "markdown",
   "metadata": {},
   "source": [
    "Now that we have the model for stop words. We can start generating features for each sentences. Here's what we're going to do:\n",
    "\n",
    "- remove punctuation\n",
    "- remove <> html tags\n",
    "- remove [] and () tags\n",
    "- change number to 0: it's rather logical than emotional\n",
    "- remove 's\n",
    "- split with space"
   ]
  },
  {
   "cell_type": "code",
   "execution_count": 7,
   "metadata": {
    "code_folding": []
   },
   "outputs": [],
   "source": [
    "import re\n",
    "from collections import Counter\n",
    "import itertools\n",
    "from stemming.porter2 import stem\n",
    "from sklearn.feature_selection import VarianceThreshold\n",
    "\n",
    "class ReviewFeatures:\n",
    "  def __init__(self, sentence_list):\n",
    "    # Convert each sentencen(string) into word list, normalized and stemmed\n",
    "    self.sentences = [[\n",
    "      stem(re.sub(\"\\W+\", \"\", word.lower())) \n",
    "        for word in self._parse_sentence(sentence) \n",
    "        if word and not StopWords.is_stop(word)\n",
    "      ] for sentence in sentence_list\n",
    "    ]\n",
    "\n",
    "  # One hot featurize and take the top feats_cnt counted features\n",
    "  def generate_feats(self, feats_cnt):\n",
    "    words_freq = Counter()\n",
    "    for sentence in self.sentences:\n",
    "      words_freq.update(sentence)\n",
    "    feat_names_set = set([tup[0] for tup in words_freq.most_common(feats_cnt)])\n",
    "    if '' in feat_names_set:\n",
    "      feat_names_set.remove('')\n",
    "    sentence_set = [pd.Series(\n",
    "                      dict(Counter(\n",
    "                        itertools.ifilterfalse(lambda x: x not in feat_names_set, sentence)\n",
    "                      )),\n",
    "                      name=i\n",
    "                    )\n",
    "                    for i, sentence in enumerate(self.sentences)]\n",
    "    self._final_feats = pd.concat(sentence_set, axis = 1).T.fillna(0)\n",
    "    return self._final_feats\n",
    "\n",
    "  def featurize_new(self, sentence):\n",
    "    # Sentence has to be string\n",
    "    parsed = set(\n",
    "      stem(re.sub(\"\\W+\", \"\", word.lower())) \n",
    "      for word in self._parse_sentence(sentence) \n",
    "      if word and not StopWords.is_stop(word)\n",
    "    )\n",
    "    return pd.DataFrame({feat : [(feat in parsed) * 1] for feat in self._final_feats.columns})\n",
    "\n",
    "  # check parsed words (for test)\n",
    "  def _uniq_words(self):\n",
    "    uniq_words = set(word for sentence in self.sentences for word in sentence)\n",
    "    return str(uniq_words)\n",
    "  \n",
    "#   PRIVATE\n",
    "    \n",
    "  def _parse_sentence(self, sentence):\n",
    "    # depuncuate\n",
    "    result = re.sub(\"[,\\.:;\\?!`-]+\", \" \", sentence)\n",
    "    # rip <>tag\n",
    "    result = re.sub(\"((?:<\\w+>)|(?:<\\/\\w+>))\", \"\", result)\n",
    "    # rip [], () contents\n",
    "    result = re.sub(\"((?:\\[.+\\])|(?:\\(.+\\)))\", \"\", result)\n",
    "    # rip number\n",
    "    result = re.sub(\"(?:\\w*[0-9\\/\\.]+)+\", \"0\", result)\n",
    "    # rip 's ...\n",
    "    result = re.sub(\"(?:'\\w+)+\", \"\", result)\n",
    "    # rip \n",
    "    return result.split(\" \")\n",
    "\n",
    "  def __str__(self):\n",
    "    return(str(self.sentences))"
   ]
  },
  {
   "cell_type": "code",
   "execution_count": 8,
   "metadata": {},
   "outputs": [],
   "source": [
    "data = [row.split(\"\\t\") for row in sentiment]\n",
    "labels = pd.Series([(int(row[0]) > 0) * 1 for row in data])\n",
    "sentences = [row[1] for row in data]"
   ]
  },
  {
   "cell_type": "code",
   "execution_count": 9,
   "metadata": {},
   "outputs": [
    {
     "name": "stdout",
     "output_type": "stream",
     "text": [
      "CPU times: user 13.8 s, sys: 786 ms, total: 14.6 s\n",
      "Wall time: 23.2 s\n"
     ]
    }
   ],
   "source": [
    "%%time\n",
    "feat_gen = ReviewFeatures(sentences)"
   ]
  },
  {
   "cell_type": "code",
   "execution_count": 10,
   "metadata": {},
   "outputs": [
    {
     "name": "stdout",
     "output_type": "stream",
     "text": [
      "     0   0s  0th  abil  abov  absolut  absorb  absurd  accomplish  achiev  \\\n",
      "0  0.0  0.0  0.0   0.0   0.0      0.0     0.0     0.0         0.0     0.0   \n",
      "1  0.0  0.0  0.0   0.0   0.0      0.0     0.0     0.0         0.0     0.0   \n",
      "2  0.0  0.0  0.0   0.0   0.0      0.0     0.0     0.0         0.0     0.0   \n",
      "3  0.0  0.0  0.0   0.0   0.0      0.0     0.0     0.0         0.0     0.0   \n",
      "4  0.0  0.0  0.0   0.0   0.0      0.0     0.0     0.0         0.0     0.0   \n",
      "\n",
      "     ...     writer  written  wrong    x    y   ya  year  yes  young  yourself  \n",
      "0    ...        0.0      0.0    0.0  0.0  0.0  0.0   0.0  0.0    0.0       0.0  \n",
      "1    ...        0.0      0.0    0.0  0.0  0.0  0.0   0.0  0.0    0.0       0.0  \n",
      "2    ...        0.0      0.0    0.0  0.0  0.0  0.0   0.0  0.0    0.0       0.0  \n",
      "3    ...        0.0      0.0    0.0  0.0  0.0  0.0   0.0  0.0    0.0       0.0  \n",
      "4    ...        0.0      0.0    0.0  0.0  0.0  0.0   0.0  0.0    0.0       0.0  \n",
      "\n",
      "[5 rows x 999 columns]\n"
     ]
    }
   ],
   "source": [
    "df = feat_gen.generate_feats(1000)\n",
    "print(df.head())"
   ]
  },
  {
   "cell_type": "markdown",
   "metadata": {},
   "source": [
    "With features generated, now we can learn the logistic models and use it to predict polarities.\n",
    "Here's some recap on logistic regression."
   ]
  },
  {
   "cell_type": "markdown",
   "metadata": {},
   "source": [
    "## Logistic classifier from scratch\n",
    "\n",
    "First we have the logistic function:\n",
    "\n",
    "$$ f(x)=\\frac{1}{( 1 + e^{x})}$$\n",
    "\n",
    "When used in regression:\n",
    "\n",
    "$$P(Y=1|X) = \\frac{1}{1 + exp(\\beta_0 + \\Sigma_{i=1}^n \\beta_ix_i)}$$\n",
    "\n",
    "$$P(Y=0|X) = \\frac{exp(\\beta_0 + \\Sigma_{i=1}^n \\beta_ix_i)}{1 + exp(\\beta_0 + \\Sigma_{i=1}^n \\beta_ix_i)}$$\n",
    "\n",
    "With the following property:\n",
    "\n",
    "$$\\frac{P(Y=0|X)}{P(Y=1|X)} = exp(\\beta_0 + \\Sigma_{i=1}^n \\beta_ix_i)$$\n",
    "\n",
    "$y_i$'s probability density function:\n",
    "\n",
    "$$p(Y|X, \\beta)=f(X, \\beta)^{Y}(1 - f(X, \\beta))^{1-Y}$$\n",
    "\n",
    "when transformed into log likelihood:\n",
    "\n",
    "$$log(L(\\beta|X, Y)) = Ylogf(X, \\beta) + (1-Y)log(1-f(X, \\beta))$$\n",
    "\n",
    "which could be rewrite as:\n",
    "\n",
    "$$log(L(\\beta|X, Y)) = logf(X, \\beta) + (1-Y)\\Sigma x_i\\beta_i $$\n",
    "\n",
    "when using stochastic gradient descent, the gradient for ith feature is:\n",
    "\n",
    "$$\\frac{\\partial}{\\partial\\beta_i}log(L(\\beta|X, Y))=x_i(Y-f(X))$$"
   ]
  },
  {
   "cell_type": "code",
   "execution_count": 11,
   "metadata": {},
   "outputs": [],
   "source": [
    "# Build from scratch, duck type sklearn\n",
    "class LogisticClassifier:\n",
    "  def fit(self, x, y, seed=0, use_stochastic=False, **kwargs):\n",
    "    np.random.seed(seed)\n",
    "    beta_0 = np.random.random((x.shape[1],))\n",
    "    traget_fn = lambda beta: self._logistic_log_likelihood(x.values, y.values, beta)\n",
    "    if not use_stochastic:\n",
    "      gradient_fn = lambda beta: self._logistic_log_gradient(x.values, y.values, beta)\n",
    "      self._minimize_batch(traget_fn, gradient_fn, beta_0)\n",
    "    else:\n",
    "      gradient_fn = self._logistic_log_gradient\n",
    "      if kwargs:\n",
    "        self._minimize_batch_stochastic(traget_fn, gradient_fn, x.values, y.values, beta_0, **kwargs)\n",
    "      else:\n",
    "        self._minimize_batch_stochastic(traget_fn, gradient_fn, x.values, y.values, beta_0)\n",
    "\n",
    "  def predict(self, x, threshold=0.5):\n",
    "    return (self.predict_proba(x) > threshold) * 1\n",
    "  \n",
    "  def predict_proba(self, x):\n",
    "    return self._logistic(np.dot(self.coef_.reshape(1, -1), x.values.T)).reshape(-1,)\n",
    "\n",
    "  # PRIVATE\n",
    "\n",
    "  def _logistic(self, x):\n",
    "    return 1.0 / (1 + np.exp(-x))\n",
    "\n",
    "  def _logistic_log_likelihood(self, x, y, beta):\n",
    "    return -1 * sum(\n",
    "      np.log(1 - y_i + 2 * (y_i - 0.5) * self._logistic(np.dot(x_i, beta)))\n",
    "      for x_i, y_i in zip(x, y)\n",
    "    ) / x.shape[0]\n",
    "\n",
    "  def _logistic_log_gradient(self, x, y, beta):\n",
    "    y_ = np.array(y)\n",
    "    y_ = y_.reshape(1, -1)\n",
    "    beta_ = beta.reshape(1, -1)\n",
    "    return (-1 * np.dot((y_ - self._logistic(np.dot(beta_, x.T))), x)).reshape(-1,) / x.shape[0]\n",
    "\n",
    "  def _minimize_batch(self, target_fn, gradient_fn, beta_0, tolerance=0.0001):\n",
    "    \"\"\"use gradient descent to find beta that minimizes target function\"\"\"\n",
    "\n",
    "    step_sizes = [100, 10, 1, 0.1, 0.01, 0.001, 0.0001, 0.00001]\n",
    "\n",
    "    beta = beta_0.reshape(-1,)\n",
    "    target_fn = target_fn               # safe version of target_fn\n",
    "    value = target_fn(beta)                # value we're minimizing\n",
    "\n",
    "    while True:\n",
    "      gradient = gradient_fn(beta)\n",
    "\n",
    "      next_betas = np.array([beta - step_size * gradient for step_size in step_sizes])\n",
    "      # choose the one that minimizes the error function\n",
    "      next_beta = min(next_betas, key=target_fn)\n",
    "      next_value = target_fn(next_beta)\n",
    "      # stop if we're \"converging\"\n",
    "      if abs(value - next_value) < tolerance:\n",
    "        self.coef_ = beta.reshape(-1,)\n",
    "        break\n",
    "      else:\n",
    "        beta, value = next_beta, next_value  \n",
    "\n",
    "  def _random_order(self, size):\n",
    "    result = list(range(size))\n",
    "    np.random.shuffle(result)\n",
    "    return result\n",
    "        \n",
    "  def _minimize_batch_stochastic(self, target_fn, gradient_fn, \n",
    "                                 x, y, beta_0, alpha_0=0.01, eta=0.9,\n",
    "                                 batch_cnt=100, max_iters=20, theshold=0.0001, test=True):\n",
    "\n",
    "    beta = beta_0.reshape(-1,)                     # initial guess\n",
    "    alpha = alpha_0                             # initial step size\n",
    "    min_beta, min_value = None, float(\"inf\")   # the minimum so far\n",
    "    iterations_with_no_improvement = 0\n",
    "    batch_size = int(x.shape[0] / batch_cnt) + 1\n",
    "    batch_cnt = int(x.shape[0] / batch_size)\n",
    "\n",
    "    test = 0\n",
    "    while iterations_with_no_improvement < max_iters:\n",
    "      value = target_fn(beta)\n",
    "      if test:\n",
    "        print(value, min_value, alpha)\n",
    "        test += 1\n",
    "        if test >= 20:\n",
    "          break\n",
    "      if value + theshold < min_value:\n",
    "        min_beta, min_value = beta, value\n",
    "        iterations_with_no_improvement = 0\n",
    "        \n",
    "      else:\n",
    "        iterations_with_no_improvement += 1\n",
    "        alpha *= eta\n",
    "        beta = min_beta\n",
    "\n",
    "      ran_order = self._random_order(x.shape[0])\n",
    "      for i in range(batch_cnt):\n",
    "        indices = ran_order[i * batch_size : (i+1) * batch_size]\n",
    "        gradient = gradient_fn(x[indices], y[indices], beta)\n",
    "        beta -= alpha * gradient\n",
    "    self.coef_ = beta.reshape(-1,)"
   ]
  },
  {
   "cell_type": "code",
   "execution_count": 12,
   "metadata": {},
   "outputs": [
    {
     "name": "stdout",
     "output_type": "stream",
     "text": [
      "CPU times: user 32.9 s, sys: 1.28 s, total: 34.2 s\n",
      "Wall time: 36.3 s\n"
     ]
    }
   ],
   "source": [
    "%%time\n",
    "# Fit data\n",
    "scratch_classifier = LogisticClassifier()\n",
    "args = { 'batch_cnt' : 200, 'max_iters' : 20, 'alpha_0' : 10, 'eta' : 0.9, 'theshold' : 0.0001 }\n",
    "scratch_classifier.fit(df, labels, 0, True, **args)"
   ]
  },
  {
   "cell_type": "code",
   "execution_count": 13,
   "metadata": {},
   "outputs": [],
   "source": [
    "# Use scikit-learn, pass\n",
    "def predict_new_sentence(sentence):\n",
    "  new_df = feat_gen.featurize_new(sentence)\n",
    "  return scratch_classifier.predict_proba(new_df)"
   ]
  },
  {
   "cell_type": "code",
   "execution_count": 14,
   "metadata": {},
   "outputs": [
    {
     "data": {
      "text/plain": [
       "array([ 0.78232565])"
      ]
     },
     "execution_count": 14,
     "metadata": {},
     "output_type": "execute_result"
    }
   ],
   "source": [
    "new_sentence = \"As most of you are aware I have not been a huge fan of the latest X- Men outings, but THIS WAS AWESOME!\"\n",
    "predict_new_sentence(new_sentence)"
   ]
  },
  {
   "cell_type": "markdown",
   "metadata": {},
   "source": [
    "Now let's see the top 10 features with highest coef (positve features) , and the top 10 with lowest (negative features)."
   ]
  },
  {
   "cell_type": "code",
   "execution_count": 15,
   "metadata": {},
   "outputs": [
    {
     "name": "stdout",
     "output_type": "stream",
     "text": [
      "reflect     2.396442\n",
      "gentl       2.439123\n",
      "skin        2.585510\n",
      "examin      2.740212\n",
      "realist     2.917448\n",
      "delic       3.169452\n",
      "rivet       3.535377\n",
      "unexpect    3.612126\n",
      "refresh     4.015643\n",
      "engross     4.250821\n",
      "dtype: float64\n",
      "unfunni   -4.181769\n",
      "routin    -3.437380\n",
      "lame      -3.410728\n",
      "disguis   -3.356337\n",
      "bore      -3.118536\n",
      "generic   -2.911477\n",
      "dull      -2.896264\n",
      "strain    -2.860844\n",
      "mediocr   -2.742508\n",
      "suppos    -2.643154\n",
      "dtype: float64\n"
     ]
    }
   ],
   "source": [
    "scratch_feat_weights = pd.Series(data=scratch_classifier.coef_, index=df.columns)\n",
    "scratch_feat_weights.sort_values(inplace=True)\n",
    "print(scratch_feat_weights.tail(10))\n",
    "print(scratch_feat_weights.head(10))"
   ]
  },
  {
   "cell_type": "markdown",
   "metadata": {},
   "source": [
    "The negative features seem to be reasonable, the positive ones are rather inaccurate."
   ]
  },
  {
   "cell_type": "markdown",
   "metadata": {},
   "source": [
    "Let's combine predicted data with the real ones."
   ]
  },
  {
   "cell_type": "code",
   "execution_count": 16,
   "metadata": {},
   "outputs": [
    {
     "data": {
      "text/html": [
       "<div>\n",
       "<style scoped>\n",
       "    .dataframe tbody tr th:only-of-type {\n",
       "        vertical-align: middle;\n",
       "    }\n",
       "\n",
       "    .dataframe tbody tr th {\n",
       "        vertical-align: top;\n",
       "    }\n",
       "\n",
       "    .dataframe thead th {\n",
       "        text-align: right;\n",
       "    }\n",
       "</style>\n",
       "<table border=\"1\" class=\"dataframe\">\n",
       "  <thead>\n",
       "    <tr style=\"text-align: right;\">\n",
       "      <th></th>\n",
       "      <th>predicted</th>\n",
       "      <th>probability</th>\n",
       "      <th>real</th>\n",
       "    </tr>\n",
       "  </thead>\n",
       "  <tbody>\n",
       "    <tr>\n",
       "      <th>0</th>\n",
       "      <td>0</td>\n",
       "      <td>0.031362</td>\n",
       "      <td>0</td>\n",
       "    </tr>\n",
       "    <tr>\n",
       "      <th>1</th>\n",
       "      <td>1</td>\n",
       "      <td>0.966480</td>\n",
       "      <td>1</td>\n",
       "    </tr>\n",
       "    <tr>\n",
       "      <th>2</th>\n",
       "      <td>1</td>\n",
       "      <td>0.956005</td>\n",
       "      <td>1</td>\n",
       "    </tr>\n",
       "    <tr>\n",
       "      <th>3</th>\n",
       "      <td>1</td>\n",
       "      <td>0.943379</td>\n",
       "      <td>1</td>\n",
       "    </tr>\n",
       "    <tr>\n",
       "      <th>4</th>\n",
       "      <td>0</td>\n",
       "      <td>0.361746</td>\n",
       "      <td>0</td>\n",
       "    </tr>\n",
       "    <tr>\n",
       "      <th>5</th>\n",
       "      <td>0</td>\n",
       "      <td>0.113282</td>\n",
       "      <td>0</td>\n",
       "    </tr>\n",
       "    <tr>\n",
       "      <th>6</th>\n",
       "      <td>0</td>\n",
       "      <td>0.116921</td>\n",
       "      <td>0</td>\n",
       "    </tr>\n",
       "    <tr>\n",
       "      <th>7</th>\n",
       "      <td>1</td>\n",
       "      <td>0.965289</td>\n",
       "      <td>1</td>\n",
       "    </tr>\n",
       "    <tr>\n",
       "      <th>8</th>\n",
       "      <td>1</td>\n",
       "      <td>0.836224</td>\n",
       "      <td>1</td>\n",
       "    </tr>\n",
       "    <tr>\n",
       "      <th>9</th>\n",
       "      <td>0</td>\n",
       "      <td>0.364210</td>\n",
       "      <td>0</td>\n",
       "    </tr>\n",
       "  </tbody>\n",
       "</table>\n",
       "</div>"
      ],
      "text/plain": [
       "   predicted  probability  real\n",
       "0          0     0.031362     0\n",
       "1          1     0.966480     1\n",
       "2          1     0.956005     1\n",
       "3          1     0.943379     1\n",
       "4          0     0.361746     0\n",
       "5          0     0.113282     0\n",
       "6          0     0.116921     0\n",
       "7          1     0.965289     1\n",
       "8          1     0.836224     1\n",
       "9          0     0.364210     0"
      ]
     },
     "execution_count": 16,
     "metadata": {},
     "output_type": "execute_result"
    }
   ],
   "source": [
    "scratch_predicted_labels = scratch_classifier.predict(df)\n",
    "scratch_predicted_proba = scratch_classifier.predict_proba(df)\n",
    "result = pd.DataFrame({\n",
    "  \"real\" : labels, \n",
    "  \"predicted\" : scratch_predicted_labels, \n",
    "  \"probability\" : scratch_predicted_proba\n",
    "})\n",
    "result.head(10)"
   ]
  },
  {
   "cell_type": "code",
   "execution_count": 17,
   "metadata": {},
   "outputs": [
    {
     "name": "stdout",
     "output_type": "stream",
     "text": [
      "Accuracy: 0.784\n",
      "Precission: 0.777\n",
      "Recall: 0.795\n",
      "F1 score: 0.786\n"
     ]
    }
   ],
   "source": [
    "def accuracy(y_true, y_pred):\n",
    "  return 1.0 * sum((y_true + y_pred) != 1) / len(y_true)\n",
    "def precision(y_true, y_pred):\n",
    "  return 1.0 * sum(y_true * y_pred) / sum(y_pred)\n",
    "def recall(y_true, y_pred):\n",
    "  return 1.0 * sum(y_true * y_pred) / sum(y_true)\n",
    "def f1_score(y_true, y_pred):\n",
    "  precision_score = precision(y_true, y_pred)\n",
    "  recall_score = recall(y_true, y_pred)\n",
    "  return 2.0 * precision_score * recall_score / (precision_score + recall_score)\n",
    "\n",
    "print(\"Accuracy: %.3f\" % (accuracy(y_true=labels, y_pred=scratch_predicted_labels)))\n",
    "print(\"Precission: %.3f\" % (precision(y_true=labels, y_pred=scratch_predicted_labels)))\n",
    "print(\"Recall: %.3f\" % (recall(y_true=labels, y_pred=scratch_predicted_labels)))\n",
    "print(\"F1 score: %.3f\" % (f1_score(y_true=labels, y_pred=scratch_predicted_labels)))"
   ]
  },
  {
   "cell_type": "markdown",
   "metadata": {},
   "source": [
    "We can see that the scores here are similar. This might happen when there's same amount of samples from each of the 2 classes. Precission and recall could be pretty skewed when classes are unbalanced. This is when we need F1 score."
   ]
  },
  {
   "cell_type": "markdown",
   "metadata": {},
   "source": [
    "In order to avoid overfitting, we should try to use cross validation. Here we're going to do it with 5 folds."
   ]
  },
  {
   "cell_type": "code",
   "execution_count": 18,
   "metadata": {},
   "outputs": [
    {
     "name": "stdout",
     "output_type": "stream",
     "text": [
      "Acc: 0.730\tPrec: 0.737\tRecall: 0.738\tF1_score:0.738\n",
      "Acc: 0.707\tPrec: 0.702\tRecall: 0.714\tF1_score:0.708\n",
      "Acc: 0.715\tPrec: 0.700\tRecall: 0.740\tF1_score:0.719\n",
      "Acc: 0.718\tPrec: 0.708\tRecall: 0.733\tF1_score:0.720\n",
      "Acc: 0.726\tPrec: 0.724\tRecall: 0.729\tF1_score:0.727\n",
      "Acc: 0.716\tPrec: 0.707\tRecall: 0.737\tF1_score:0.722\n",
      "CPU times: user 2min 8s, sys: 4.79 s, total: 2min 13s\n",
      "Wall time: 2min 20s\n"
     ]
    }
   ],
   "source": [
    "%%time\n",
    "from sklearn.model_selection import KFold\n",
    "kf = KFold(n_splits=5)\n",
    "args = { 'batch_cnt' : 200, 'max_iters' : 20, 'alpha_0' : 10, 'eta' : 0.9, 'theshold' : 0.0001 }\n",
    "\n",
    "scratch_cv_proba = pd.Series(np.zeros(shape=(df.shape[0])))\n",
    "for train, test in kf.split(np.array(df)):\n",
    "  scratch_classifier.fit(df.iloc[train, :], labels[train], 0, True, **args);\n",
    "  scratch_predicted_labels = scratch_classifier.predict(df.iloc[test, :])\n",
    "  scratch_cv_proba.iloc[test] = scratch_classifier.predict_proba(df.iloc[test, :])\n",
    "  print(\"Acc: %.3f\\tPrec: %.3f\\tRecall: %.3f\\tF1_score:%.3f\" % (\n",
    "    accuracy(y_true=labels[test], y_pred=scratch_predicted_labels),\n",
    "    precision(y_true=labels[test], y_pred=scratch_predicted_labels),\n",
    "    recall(y_true=labels[test], y_pred=scratch_predicted_labels),\n",
    "    f1_score(y_true=labels[test], y_pred=scratch_predicted_labels)\n",
    "  ))\n",
    "\n",
    "\"CV Result summary\"\n",
    "print(\"Acc: %.3f\\tPrec: %.3f\\tRecall: %.3f\\tF1_score:%.3f\" % (\n",
    "  accuracy(y_true=labels, y_pred=(scratch_cv_proba >= 0.5) * 1),\n",
    "  precision(y_true=labels, y_pred=(scratch_cv_proba >= 0.5) * 1),\n",
    "  recall(y_true=labels, y_pred=(scratch_cv_proba >= 0.5) * 1),\n",
    "  f1_score(y_true=labels, y_pred=(scratch_cv_proba >= 0.5) * 1)\n",
    "))"
   ]
  },
  {
   "cell_type": "markdown",
   "metadata": {},
   "source": [
    "By shifting the decision value, we could acquire a precision - recall graph."
   ]
  },
  {
   "cell_type": "code",
   "execution_count": 19,
   "metadata": {},
   "outputs": [],
   "source": [
    "determination_th = np.arange(0, 1, 0.01)\n",
    "prec_list = [precision(y_true=labels, y_pred=(scratch_cv_proba >= th) * 1) for th in determination_th]\n",
    "recall_list = [recall(y_true=labels, y_pred=(scratch_cv_proba >= th) * 1) for th in determination_th]"
   ]
  },
  {
   "cell_type": "code",
   "execution_count": 20,
   "metadata": {},
   "outputs": [
    {
     "data": {
      "image/png": "[encoded data removed]",
      "text/plain": [
       "<matplotlib.figure.Figure at 0x10da60350>"
      ]
     },
     "metadata": {},
     "output_type": "display_data"
    }
   ],
   "source": [
    "mpl.rcParams[\"figure.figsize\"] = (10, 6)\n",
    "prec_line = plt.plot(determination_th, prec_list, color='b', label=\"Precision\");\n",
    "recall_line = plt.plot(determination_th, recall_list, color='r', label=\"Recall\");\n",
    "plt.xlabel(\"Decision Boundry\");\n",
    "plt.ylabel(\"Metrics\");\n",
    "plt.legend();"
   ]
  },
  {
   "cell_type": "code",
   "execution_count": 21,
   "metadata": {},
   "outputs": [
    {
     "data": {
      "image/png": "[encoded data removed]",
      "text/plain": [
       "<matplotlib.figure.Figure at 0x10dc00410>"
      ]
     },
     "metadata": {},
     "output_type": "display_data"
    }
   ],
   "source": [
    "mpl.rcParams[\"figure.figsize\"] = (10, 6)\n",
    "prec_recal_line = plt.plot(prec_list, recall_list, color='b', label=\"Precision\");\n",
    "plt.xlabel(\"Decision Boundry\");\n",
    "plt.ylabel(\"Metrics\");\n",
    "plt.legend();"
   ]
  },
  {
   "cell_type": "markdown",
   "metadata": {
    "collapsed": true
   },
   "source": [
    "## LogisticRegression from Sklearn\n",
    "\n",
    "Let's try to use pacages provided by sklearn and see how the model is different. Since it is expected to be much faster, let's do a grid search to optimize the hyper-parameter C used for regulation."
   ]
  },
  {
   "cell_type": "code",
   "execution_count": 22,
   "metadata": {},
   "outputs": [
    {
     "name": "stdout",
     "output_type": "stream",
     "text": [
      "CPU times: user 9.88 s, sys: 2.15 s, total: 12 s\n",
      "Wall time: 12.3 s\n"
     ]
    }
   ],
   "source": [
    "%%time\n",
    "# Use scikit-learn logistic model\n",
    "\n",
    "from sklearn.linear_model import LogisticRegression\n",
    "from sklearn.model_selection import GridSearchCV\n",
    "\n",
    "params = {\n",
    "  'C' : [1e3, 1e2, 10, 1, 0.5, 0.1, 0.05, 0.01, 0.005, 0.001, 0.0005]\n",
    "}\n",
    "\n",
    "predictor = LogisticRegression(\n",
    "  penalty = \"l2\",\n",
    "  C = 1e10\n",
    ")\n",
    "searcher = GridSearchCV(\n",
    "  estimator=predictor,\n",
    "  param_grid=params,\n",
    "  scoring='accuracy',\n",
    "  cv=5,\n",
    ")\n",
    "searcher.fit(df.values, labels.values)\n",
    "(searcher.best_score_, searcher.best_params_)"
   ]
  },
  {
   "cell_type": "code",
   "execution_count": 23,
   "metadata": {},
   "outputs": [
    {
     "data": {
      "text/plain": [
       "[(0.72064891222805705, {'C': 1000.0}),\n",
       " (0.72046136534133531, {'C': 100.0}),\n",
       " (0.72177419354838712, {'C': 10}),\n",
       " (0.72599399849962487, {'C': 1}),\n",
       " (0.72946361590397601, {'C': 0.5}),\n",
       " (0.72702550637659413, {'C': 0.1}),\n",
       " (0.72515003750937734, {'C': 0.05}),\n",
       " (0.70761440360090022, {'C': 0.01}),\n",
       " (0.69804951237809454, {'C': 0.005}),\n",
       " (0.67666916729182292, {'C': 0.001}),\n",
       " (0.67469992498124531, {'C': 0.0005})]"
      ]
     },
     "execution_count": 23,
     "metadata": {},
     "output_type": "execute_result"
    },
    {
     "data": {
      "text/plain": [
       "(0.72946361590397601, {'C': 0.5})"
      ]
     },
     "execution_count": 23,
     "metadata": {},
     "output_type": "execute_result"
    }
   ],
   "source": [
    "list(zip(searcher.cv_results_['mean_test_score'], searcher.cv_results_['params']))\n",
    "(searcher.best_score_, searcher.best_params_)"
   ]
  },
  {
   "cell_type": "markdown",
   "metadata": {},
   "source": [
    "It seems that C=0.5 is the best setting. Let's check the metrics with 5-fold cross validation as well."
   ]
  },
  {
   "cell_type": "code",
   "execution_count": 24,
   "metadata": {},
   "outputs": [
    {
     "data": {
      "text/plain": [
       "LogisticRegression(C=0.5, class_weight=None, dual=False, fit_intercept=True,\n",
       "          intercept_scaling=1, max_iter=100, multi_class='ovr', n_jobs=1,\n",
       "          penalty='l2', random_state=None, solver='liblinear', tol=0.0001,\n",
       "          verbose=0, warm_start=False)"
      ]
     },
     "execution_count": 24,
     "metadata": {},
     "output_type": "execute_result"
    },
    {
     "data": {
      "text/html": [
       "<div>\n",
       "<style scoped>\n",
       "    .dataframe tbody tr th:only-of-type {\n",
       "        vertical-align: middle;\n",
       "    }\n",
       "\n",
       "    .dataframe tbody tr th {\n",
       "        vertical-align: top;\n",
       "    }\n",
       "\n",
       "    .dataframe thead th {\n",
       "        text-align: right;\n",
       "    }\n",
       "</style>\n",
       "<table border=\"1\" class=\"dataframe\">\n",
       "  <thead>\n",
       "    <tr style=\"text-align: right;\">\n",
       "      <th></th>\n",
       "      <th>predicted</th>\n",
       "      <th>probability</th>\n",
       "      <th>real</th>\n",
       "    </tr>\n",
       "  </thead>\n",
       "  <tbody>\n",
       "    <tr>\n",
       "      <th>0</th>\n",
       "      <td>0</td>\n",
       "      <td>0.088469</td>\n",
       "      <td>0</td>\n",
       "    </tr>\n",
       "    <tr>\n",
       "      <th>1</th>\n",
       "      <td>1</td>\n",
       "      <td>0.907255</td>\n",
       "      <td>1</td>\n",
       "    </tr>\n",
       "    <tr>\n",
       "      <th>2</th>\n",
       "      <td>1</td>\n",
       "      <td>0.945093</td>\n",
       "      <td>1</td>\n",
       "    </tr>\n",
       "    <tr>\n",
       "      <th>3</th>\n",
       "      <td>1</td>\n",
       "      <td>0.905961</td>\n",
       "      <td>1</td>\n",
       "    </tr>\n",
       "    <tr>\n",
       "      <th>4</th>\n",
       "      <td>0</td>\n",
       "      <td>0.350828</td>\n",
       "      <td>0</td>\n",
       "    </tr>\n",
       "    <tr>\n",
       "      <th>5</th>\n",
       "      <td>0</td>\n",
       "      <td>0.134789</td>\n",
       "      <td>0</td>\n",
       "    </tr>\n",
       "    <tr>\n",
       "      <th>6</th>\n",
       "      <td>0</td>\n",
       "      <td>0.165172</td>\n",
       "      <td>0</td>\n",
       "    </tr>\n",
       "    <tr>\n",
       "      <th>7</th>\n",
       "      <td>1</td>\n",
       "      <td>0.911506</td>\n",
       "      <td>1</td>\n",
       "    </tr>\n",
       "    <tr>\n",
       "      <th>8</th>\n",
       "      <td>1</td>\n",
       "      <td>0.775141</td>\n",
       "      <td>1</td>\n",
       "    </tr>\n",
       "    <tr>\n",
       "      <th>9</th>\n",
       "      <td>0</td>\n",
       "      <td>0.433450</td>\n",
       "      <td>0</td>\n",
       "    </tr>\n",
       "  </tbody>\n",
       "</table>\n",
       "</div>"
      ],
      "text/plain": [
       "   predicted  probability  real\n",
       "0          0     0.088469     0\n",
       "1          1     0.907255     1\n",
       "2          1     0.945093     1\n",
       "3          1     0.905961     1\n",
       "4          0     0.350828     0\n",
       "5          0     0.134789     0\n",
       "6          0     0.165172     0\n",
       "7          1     0.911506     1\n",
       "8          1     0.775141     1\n",
       "9          0     0.433450     0"
      ]
     },
     "execution_count": 24,
     "metadata": {},
     "output_type": "execute_result"
    }
   ],
   "source": [
    "predictor = LogisticRegression(\n",
    "  penalty = \"l2\",\n",
    "  C = 0.5\n",
    ")\n",
    "\n",
    "predictor.fit(df, labels)\n",
    "predicted_labels = predictor.predict(df)\n",
    "predicted_proba = predictor.predict_proba(df)\n",
    "result = pd.DataFrame({\n",
    "  \"real\" : labels, \n",
    "  \"predicted\" : predicted_labels, \n",
    "  \"probability\" : [prob[1] for prob in predicted_proba]\n",
    "})\n",
    "result.head(10)"
   ]
  },
  {
   "cell_type": "code",
   "execution_count": 25,
   "metadata": {},
   "outputs": [
    {
     "name": "stdout",
     "output_type": "stream",
     "text": [
      "Accuracy: 0.784\n",
      "Precission: 0.788\n",
      "Recall: 0.777\n",
      "F1 score: 0.782\n"
     ]
    }
   ],
   "source": [
    "from sklearn import metrics\n",
    "kwargs = {\"y_true\" : labels, \"y_pred\" : predicted_labels }\n",
    "print(\"Accuracy: %.3f\" % (metrics.accuracy_score(**kwargs)))\n",
    "print(\"Precission: %.3f\" % (metrics.precision_score(**kwargs)))\n",
    "print(\"Recall: %.3f\" % (metrics.recall_score(**kwargs)))\n",
    "print(\"F1 score: %.3f\" % (metrics.f1_score(**kwargs)))"
   ]
  },
  {
   "cell_type": "code",
   "execution_count": 26,
   "metadata": {},
   "outputs": [
    {
     "name": "stdout",
     "output_type": "stream",
     "text": [
      "Acc: 0.729\tPrec: 0.744\tRecall: 0.722\tF1_score:0.733\n",
      "Acc: 0.725\tPrec: 0.729\tRecall: 0.713\tF1_score:0.721\n",
      "Acc: 0.728\tPrec: 0.725\tRecall: 0.721\tF1_score:0.723\n",
      "Acc: 0.732\tPrec: 0.729\tRecall: 0.730\tF1_score:0.730\n",
      "Acc: 0.735\tPrec: 0.739\tRecall: 0.729\tF1_score:0.734\n"
     ]
    },
    {
     "data": {
      "text/plain": [
       "'CV Result summary'"
      ]
     },
     "execution_count": 26,
     "metadata": {},
     "output_type": "execute_result"
    },
    {
     "name": "stdout",
     "output_type": "stream",
     "text": [
      "Acc: 0.730\tPrec: 0.733\tRecall: 0.723\tF1_score:0.728\n"
     ]
    }
   ],
   "source": [
    "from sklearn.model_selection import KFold\n",
    "kf = KFold(n_splits=5)\n",
    "\n",
    "cv_proba = pd.Series(np.zeros(shape=(df.shape[0])))\n",
    "for train, test in kf.split(np.array(df)):\n",
    "  _ = predictor.fit(df.iloc[train, :], labels[train]);\n",
    "  predicted_labels = predictor.predict(df.iloc[test, :])\n",
    "  cv_proba.iloc[test] = [x[1] for x in predictor.predict_proba(df.iloc[test, :])]\n",
    "  print(\"Acc: %.3f\\tPrec: %.3f\\tRecall: %.3f\\tF1_score:%.3f\" % (\n",
    "    metrics.accuracy_score(y_true=labels[test], y_pred=predicted_labels),\n",
    "    metrics.precision_score(y_true=labels[test], y_pred=predicted_labels),\n",
    "    metrics.recall_score(y_true=labels[test], y_pred=predicted_labels),\n",
    "    metrics.f1_score(y_true=labels[test], y_pred=predicted_labels)\n",
    "  ))\n",
    "\n",
    "\"CV Result summary\"\n",
    "print(\"Acc: %.3f\\tPrec: %.3f\\tRecall: %.3f\\tF1_score:%.3f\" % (\n",
    "  metrics.accuracy_score(y_true=labels, y_pred=(cv_proba >= 0.5) * 1),\n",
    "  metrics.precision_score(y_true=labels, y_pred=(cv_proba >= 0.5) * 1),\n",
    "  metrics.recall_score(y_true=labels, y_pred=(cv_proba >= 0.5) * 1),\n",
    "  metrics.f1_score(y_true=labels, y_pred=(cv_proba >= 0.5) * 1)\n",
    "))\n"
   ]
  },
  {
   "cell_type": "code",
   "execution_count": 27,
   "metadata": {},
   "outputs": [],
   "source": [
    "determination_th = np.arange(0, 1, 0.01)\n",
    "prec_list = [metrics.precision_score(y_true=labels, y_pred=(cv_proba >= th) * 1) for th in determination_th]\n",
    "recall_list = [metrics.recall_score(y_true=labels, y_pred=(cv_proba >= th) * 1) for th in determination_th]"
   ]
  },
  {
   "cell_type": "code",
   "execution_count": 28,
   "metadata": {},
   "outputs": [
    {
     "data": {
      "image/png": "[encoded data removed]",
      "text/plain": [
       "<matplotlib.figure.Figure at 0x10dc62490>"
      ]
     },
     "metadata": {},
     "output_type": "display_data"
    }
   ],
   "source": [
    "mpl.rcParams[\"figure.figsize\"] = (10, 6)\n",
    "prec_line = plt.plot(determination_th, prec_list, color='b', label=\"Precision\");\n",
    "recall_line = plt.plot(determination_th, recall_list, color='r', label=\"Recall\");\n",
    "plt.xlabel(\"Decision Boundry\");\n",
    "plt.ylabel(\"Metrics\");\n",
    "plt.legend();"
   ]
  },
  {
   "cell_type": "markdown",
   "metadata": {},
   "source": [
    "# Conlusion\n",
    "\n",
    "We can see that though the accuracy is not quite different, however calculation of the from_scratch model is much longer than sklearn's."
   ]
  },
  {
   "cell_type": "code",
   "execution_count": null,
   "metadata": {},
   "outputs": [],
   "source": []
  }
 ],
 "metadata": {
  "hide_input": false,
  "kernelspec": {
   "display_name": "Python 3",
   "language": "python",
   "name": "python3"
  },
  "language_info": {
   "codemirror_mode": {
    "name": "ipython",
    "version": 2
   },
   "file_extension": ".py",
   "mimetype": "text/x-python",
   "name": "python",
   "nbconvert_exporter": "python",
   "pygments_lexer": "ipython2",
   "version": "2.7.14"
  }
 },
 "nbformat": 4,
 "nbformat_minor": 2
}
